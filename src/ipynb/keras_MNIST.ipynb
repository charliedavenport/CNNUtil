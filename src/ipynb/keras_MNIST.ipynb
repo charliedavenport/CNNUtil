{
 "cells": [
  {
   "cell_type": "code",
   "execution_count": 12,
   "metadata": {},
   "outputs": [
    {
     "name": "stdout",
     "output_type": "stream",
     "text": [
      "['/job:localhost/replica:0/task:0/device:GPU:0']\n",
      "img data fmt:  channels_last\n"
     ]
    }
   ],
   "source": [
    "from keras.models import Sequential, load_model, save_model\n",
    "from keras.layers import Dense, Dropout, Flatten\n",
    "from keras.layers import Conv2D, MaxPooling2D\n",
    "from keras.datasets import mnist, cifar10\n",
    "from keras.optimizers import SGD\n",
    "import keras.utils\n",
    "import keras.backend as K\n",
    "import numpy as np\n",
    "import tensorflow as tf\n",
    "import matplotlib.pyplot as plt\n",
    "\n",
    "\n",
    "print(K.tensorflow_backend._get_available_gpus())\n",
    "print('img data fmt: ', K.image_data_format())"
   ]
  },
  {
   "cell_type": "code",
   "execution_count": 2,
   "metadata": {},
   "outputs": [
    {
     "name": "stdout",
     "output_type": "stream",
     "text": [
      "X_train.shape =  (60000, 28, 28)  y_train.shape =  (60000,)\n",
      "X_test.shape =  (10000, 28, 28)  y_test.shape =  (10000,)\n",
      "data type:  <class 'numpy.uint8'>\n",
      "label type:  <class 'numpy.uint8'>\n"
     ]
    }
   ],
   "source": [
    "(X_train, y_train), (X_test, y_test) = mnist.load_data()\n",
    "print('X_train.shape = ', X_train.shape, ' y_train.shape = ', y_train.shape)\n",
    "print('X_test.shape = ', X_test.shape, ' y_test.shape = ', y_test.shape)\n",
    "\n",
    "print('data type: ', type(X_train[0][0][0]))\n",
    "print('label type: ', type(y_train[0]))"
   ]
  },
  {
   "cell_type": "code",
   "execution_count": 3,
   "metadata": {},
   "outputs": [
    {
     "name": "stdout",
     "output_type": "stream",
     "text": [
      "X_train.shape =  (60000, 28, 28, 1)  y_train.shape =  (60000, 10)\n",
      "X_test.shape =  (10000, 28, 28, 1)  y_test.shape =  (10000, 10)\n",
      "data type:  <class 'numpy.float32'>\n",
      "label type:  <class 'numpy.float32'>\n"
     ]
    }
   ],
   "source": [
    "# Reshape data and normalize between [0.0 , 1.0] before feeding it to our model\n",
    "\n",
    "X_train = X_train.reshape(X_train.shape[0], 28, 28, 1)\n",
    "X_test = X_test.reshape(X_test.shape[0], 28, 28, 1)\n",
    "# convert target labels from scalars to an array of binary values\n",
    "y_train = keras.utils.to_categorical(y_train, 10)\n",
    "y_test = keras.utils.to_categorical(y_test, 10)\n",
    "\n",
    "# convert img data from ints in range [0,255] to floats in range [0,1] \n",
    "X_train = X_train.astype('float32')\n",
    "X_test = X_test.astype('float32')\n",
    "X_train = X_train / 255\n",
    "X_test = X_test / 255\n",
    "\n",
    "print('X_train.shape = ', X_train.shape, ' y_train.shape = ', y_train.shape)\n",
    "print('X_test.shape = ', X_test.shape, ' y_test.shape = ', y_test.shape)\n",
    "\n",
    "# check the type of the first element in our 4-D array\n",
    "print('data type: ', type(X_train[0][0][0][0])) \n",
    "print('label type: ', type(y_train[0][0]))"
   ]
  },
  {
   "cell_type": "markdown",
   "metadata": {},
   "source": [
    "# MultiLayer Perceptron (MLP)\n",
    "\n",
    "* 4 fully connected (dense) layers\n",
    "    * 1 input layer (784,)\n",
    "    * 2 hidden layers (128,) ReLU\n",
    "    * 1 output layer (10,) softmax\n",
    "    \n",
    "Outputs probability for each class"
   ]
  },
  {
   "cell_type": "code",
   "execution_count": 4,
   "metadata": {},
   "outputs": [
    {
     "name": "stdout",
     "output_type": "stream",
     "text": [
      "_________________________________________________________________\n",
      "Layer (type)                 Output Shape              Param #   \n",
      "=================================================================\n",
      "flatten_1 (Flatten)          (None, 784)               0         \n",
      "_________________________________________________________________\n",
      "dense_1 (Dense)              (None, 128)               100480    \n",
      "_________________________________________________________________\n",
      "dense_2 (Dense)              (None, 128)               16512     \n",
      "_________________________________________________________________\n",
      "dense_3 (Dense)              (None, 128)               16512     \n",
      "_________________________________________________________________\n",
      "dense_4 (Dense)              (None, 10)                1290      \n",
      "=================================================================\n",
      "Total params: 134,794\n",
      "Trainable params: 134,794\n",
      "Non-trainable params: 0\n",
      "_________________________________________________________________\n"
     ]
    }
   ],
   "source": [
    "# create an empty sequential model\n",
    "model = Sequential()\n",
    "\n",
    "# add layers\n",
    "model.add(Flatten(input_shape=(28,28,1))) # outputs (784,) array\n",
    "model.add(Dense(units=128, activation='relu'))\n",
    "model.add(Dense(units=128, activation='relu'))\n",
    "model.add(Dense(units=128, activation='relu'))\n",
    "model.add(Dense(units=10, activation='softmax'))\n",
    "\n",
    "# Stochastic Gradient Descent (SGD) optimizer\n",
    "sgd = SGD(lr=0.01, momentum=0.9, decay=0.0, nesterov=False)\n",
    "\n",
    "# Compile the model - this is where memory is allocated and a compute graph is generated\n",
    "model.compile(loss='categorical_crossentropy',\n",
    "              optimizer=sgd,\n",
    "              metrics=['accuracy'])\n",
    "\n",
    "# print out a summary of our model\n",
    "model.summary()"
   ]
  },
  {
   "cell_type": "code",
   "execution_count": 5,
   "metadata": {},
   "outputs": [
    {
     "name": "stdout",
     "output_type": "stream",
     "text": [
      "Epoch 1/10\n",
      "60000/60000 [==============================] - 3s 46us/step - loss: 0.5117 - acc: 0.8523\n",
      "Epoch 2/10\n",
      "60000/60000 [==============================] - 1s 20us/step - loss: 0.1949 - acc: 0.9428\n",
      "Epoch 3/10\n",
      "60000/60000 [==============================] - 1s 19us/step - loss: 0.1392 - acc: 0.9585\n",
      "Epoch 4/10\n",
      "60000/60000 [==============================] - 1s 19us/step - loss: 0.1105 - acc: 0.9677\n",
      "Epoch 5/10\n",
      "60000/60000 [==============================] - 1s 19us/step - loss: 0.0891 - acc: 0.9733\n",
      "Epoch 6/10\n",
      "60000/60000 [==============================] - 1s 19us/step - loss: 0.0758 - acc: 0.9773\n",
      "Epoch 7/10\n",
      "60000/60000 [==============================] - 1s 19us/step - loss: 0.0644 - acc: 0.9810\n",
      "Epoch 8/10\n",
      "60000/60000 [==============================] - 1s 19us/step - loss: 0.0550 - acc: 0.9830\n",
      "Epoch 9/10\n",
      "60000/60000 [==============================] - 1s 19us/step - loss: 0.0467 - acc: 0.9859\n",
      "Epoch 10/10\n",
      "60000/60000 [==============================] - 1s 19us/step - loss: 0.0407 - acc: 0.9877\n"
     ]
    }
   ],
   "source": [
    "# if you get a ResourceExhaustedError, decrease the batch_size\n",
    "hist = model.fit(X_train, y_train, epochs=10, batch_size=128)\n",
    "# model.fit() returns a history object, which is a dict containing loss and acc metrics (and any other metrics we pass in)"
   ]
  },
  {
   "cell_type": "code",
   "execution_count": 6,
   "metadata": {},
   "outputs": [
    {
     "data": {
      "image/png": "[encoded data removed]",
      "text/plain": [
       "<Figure size 576x360 with 1 Axes>"
      ]
     },
     "metadata": {},
     "output_type": "display_data"
    }
   ],
   "source": [
    "plt.style.use('seaborn')\n",
    "plt.figure(figsize=(8,5)) # figsize is in inches\n",
    "# plot the history object returned by the fit() method\n",
    "plt.plot(hist.history['loss'], 'r')\n",
    "plt.plot(hist.history['acc'], 'r--')\n",
    "plt.xlabel('Training Epoch')\n",
    "plt.ylabel('Training Accuracy/Loss')\n",
    "plt.legend(['Loss (categorical cross-entropy)', 'Accuracy'])\n",
    "plt.grid(True)\n",
    "plt.ylim(0,1)\n",
    "plt.show()\n"
   ]
  },
  {
   "cell_type": "code",
   "execution_count": 7,
   "metadata": {},
   "outputs": [
    {
     "name": "stdout",
     "output_type": "stream",
     "text": [
      "10000/10000 [==============================] - 0s 12us/step\n",
      "test loss:  0.08136248729079962\n",
      "test accuracy:  0.974\n"
     ]
    }
   ],
   "source": [
    "loss, accuracy = model.evaluate(X_test, y_test, batch_size=128)\n",
    "\n",
    "print('test loss: ', loss)\n",
    "print('test accuracy: ', accuracy)"
   ]
  },
  {
   "cell_type": "markdown",
   "metadata": {},
   "source": [
    "# Convolutional Neural Net\n",
    "\n",
    " * 2 Convolutional Layers\n",
    " * 2 Max-Pooling Layers\n",
    " * 2 Fully-Connected layers\n",
    " \n",
    " in $\\rightarrow$ Conv2d $\\rightarrow$ Max Pooling $\\rightarrow$ Conv2d $\\rightarrow$ Max Pooling $\\rightarrow$ Fully Connected $\\rightarrow$ out"
   ]
  },
  {
   "cell_type": "code",
   "execution_count": 8,
   "metadata": {},
   "outputs": [
    {
     "name": "stdout",
     "output_type": "stream",
     "text": [
      "_________________________________________________________________\n",
      "Layer (type)                 Output Shape              Param #   \n",
      "=================================================================\n",
      "conv2d_1 (Conv2D)            (None, 26, 26, 32)        320       \n",
      "_________________________________________________________________\n",
      "max_pooling2d_1 (MaxPooling2 (None, 13, 13, 32)        0         \n",
      "_________________________________________________________________\n",
      "conv2d_2 (Conv2D)            (None, 11, 11, 64)        18496     \n",
      "_________________________________________________________________\n",
      "max_pooling2d_2 (MaxPooling2 (None, 5, 5, 64)          0         \n",
      "_________________________________________________________________\n",
      "flatten_2 (Flatten)          (None, 1600)              0         \n",
      "_________________________________________________________________\n",
      "dense_5 (Dense)              (None, 128)               204928    \n",
      "_________________________________________________________________\n",
      "dense_6 (Dense)              (None, 10)                1290      \n",
      "=================================================================\n",
      "Total params: 225,034\n",
      "Trainable params: 225,034\n",
      "Non-trainable params: 0\n",
      "_________________________________________________________________\n"
     ]
    }
   ],
   "source": [
    "cnn = Sequential()\n",
    "cnn.add(Conv2D(32, kernel_size=(3,3),\n",
    "               activation='relu',\n",
    "               input_shape= (28,28,1)))\n",
    "cnn.add(MaxPooling2D(pool_size=(2,2)))\n",
    "cnn.add(Conv2D(64, (3,3), activation='relu'))\n",
    "cnn.add(MaxPooling2D(pool_size=(2,2)))\n",
    "cnn.add(Flatten())\n",
    "cnn.add(Dense(128, activation='relu'))\n",
    "cnn.add(Dense(10, activation='softmax'))\n",
    "\n",
    "sgd = SGD(lr=0.01, momentum=0.9, decay=0.0, nesterov=False)\n",
    "\n",
    "cnn.compile(loss=keras.losses.categorical_crossentropy,\n",
    "            optimizer=sgd,\n",
    "            metrics=['accuracy'])\n",
    "\n",
    "cnn.summary()"
   ]
  },
  {
   "cell_type": "code",
   "execution_count": 9,
   "metadata": {},
   "outputs": [
    {
     "name": "stdout",
     "output_type": "stream",
     "text": [
      "Epoch 1/10\n",
      "60000/60000 [==============================] - 5s 88us/step - loss: 0.3966 - acc: 0.8773\n",
      "Epoch 2/10\n",
      "60000/60000 [==============================] - 3s 43us/step - loss: 0.0884 - acc: 0.9720\n",
      "Epoch 3/10\n",
      "60000/60000 [==============================] - 3s 43us/step - loss: 0.0627 - acc: 0.9804\n",
      "Epoch 4/10\n",
      "60000/60000 [==============================] - 3s 42us/step - loss: 0.0506 - acc: 0.9843\n",
      "Epoch 5/10\n",
      "60000/60000 [==============================] - 3s 42us/step - loss: 0.0434 - acc: 0.9864\n",
      "Epoch 6/10\n",
      "60000/60000 [==============================] - 2s 41us/step - loss: 0.0351 - acc: 0.9887\n",
      "Epoch 7/10\n",
      "60000/60000 [==============================] - 2s 41us/step - loss: 0.0306 - acc: 0.9905\n",
      "Epoch 8/10\n",
      "60000/60000 [==============================] - 2s 42us/step - loss: 0.0269 - acc: 0.9916\n",
      "Epoch 9/10\n",
      "60000/60000 [==============================] - 2s 42us/step - loss: 0.0237 - acc: 0.9926\n",
      "Epoch 10/10\n",
      "60000/60000 [==============================] - 2s 42us/step - loss: 0.0208 - acc: 0.9934\n"
     ]
    }
   ],
   "source": [
    "hist_cnn = cnn.fit(X_train, y_train, batch_size=128, epochs=10)"
   ]
  },
  {
   "cell_type": "code",
   "execution_count": 10,
   "metadata": {},
   "outputs": [
    {
     "data": {
      "image/png": "[encoded data removed]",
      "text/plain": [
       "<Figure size 576x360 with 1 Axes>"
      ]
     },
     "metadata": {},
     "output_type": "display_data"
    }
   ],
   "source": [
    "plt.figure(figsize=(8,5))\n",
    "plt.plot(hist.history['loss'], 'r')\n",
    "plt.plot(hist.history['acc'], 'r--')\n",
    "plt.plot(hist_cnn.history['loss'], 'b')\n",
    "plt.plot(hist_cnn.history['acc'], 'b--')\n",
    "plt.xlabel('Training Epoch')\n",
    "plt.ylabel('Training Accuracy/Loss')\n",
    "plt.legend(['MLP Loss', 'MLP Accuracy', \n",
    "            'CNN Loss', 'CNN Accuracy'])\n",
    "plt.grid(True)\n",
    "plt.ylim(0,1)\n",
    "plt.savefig('MNIST_cnn_mlp.png', dpi=150, bbox_inches='tight')\n",
    "plt.show() # if you call plt.savefig() after plt.show(), you'll save a blank figure"
   ]
  },
  {
   "cell_type": "code",
   "execution_count": 11,
   "metadata": {},
   "outputs": [
    {
     "name": "stdout",
     "output_type": "stream",
     "text": [
      "10000/10000 [==============================] - 0s 23us/step\n",
      "test loss:  0.034524268882069734\n",
      "test accuracy:  0.989\n"
     ]
    }
   ],
   "source": [
    "loss, accuracy = cnn.evaluate(X_test, y_test, batch_size=128)\n",
    "\n",
    "print('test loss: ', loss)\n",
    "print('test accuracy: ', accuracy)"
   ]
  },
  {
   "cell_type": "code",
   "execution_count": 13,
   "metadata": {},
   "outputs": [],
   "source": [
    "cnn.save('MNIST_CNN_01.h5')\n",
    "model.save('MNIST_MLP_01.h5')"
   ]
  },
  {
   "cell_type": "code",
   "execution_count": 14,
   "metadata": {},
   "outputs": [
    {
     "name": "stdout",
     "output_type": "stream",
     "text": [
      "_________________________________________________________________\n",
      "Layer (type)                 Output Shape              Param #   \n",
      "=================================================================\n",
      "conv2d_1 (Conv2D)            (None, 26, 26, 32)        320       \n",
      "_________________________________________________________________\n",
      "max_pooling2d_1 (MaxPooling2 (None, 13, 13, 32)        0         \n",
      "_________________________________________________________________\n",
      "conv2d_2 (Conv2D)            (None, 11, 11, 64)        18496     \n",
      "_________________________________________________________________\n",
      "max_pooling2d_2 (MaxPooling2 (None, 5, 5, 64)          0         \n",
      "_________________________________________________________________\n",
      "flatten_2 (Flatten)          (None, 1600)              0         \n",
      "_________________________________________________________________\n",
      "dense_5 (Dense)              (None, 128)               204928    \n",
      "_________________________________________________________________\n",
      "dense_6 (Dense)              (None, 10)                1290      \n",
      "=================================================================\n",
      "Total params: 225,034\n",
      "Trainable params: 225,034\n",
      "Non-trainable params: 0\n",
      "_________________________________________________________________\n"
     ]
    }
   ],
   "source": [
    "cnn.summary()"
   ]
  },
  {
   "cell_type": "code",
   "execution_count": null,
   "metadata": {},
   "outputs": [],
   "source": []
  }
 ],
 "metadata": {
  "kernelspec": {
   "display_name": "Python 3",
   "language": "python",
   "name": "python3"
  },
  "language_info": {
   "codemirror_mode": {
    "name": "ipython",
    "version": 3
   },
   "file_extension": ".py",
   "mimetype": "text/x-python",
   "name": "python",
   "nbconvert_exporter": "python",
   "pygments_lexer": "ipython3",
   "version": "3.6.5"
  }
 },
 "nbformat": 4,
 "nbformat_minor": 2
}
